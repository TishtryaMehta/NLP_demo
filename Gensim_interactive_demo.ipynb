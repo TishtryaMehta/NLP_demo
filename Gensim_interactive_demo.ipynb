{
 "cells": [
  {
   "cell_type": "code",
   "execution_count": 1,
   "metadata": {},
   "outputs": [],
   "source": [
    "from scipy.spatial.distance import cosine\n",
    "from gensim.models import KeyedVectors\n",
    "from sklearn.preprocessing import normalize"
   ]
  },
  {
   "cell_type": "markdown",
   "metadata": {},
   "source": [
    "### This program creates an interactive demo where a user can:\n",
    "> 1. Find cosine similarity between two words\n",
    "> 2. Add two words (e.g., Woman + King = Queen)\n",
    "> 3. Add and subtract words (e.g, Tokyo + England - Japan) = London\n",
    "\n",
    "To proceed, run the cell containing 'Interactive Demo' and choose Option 1, 2, or 3.\n",
    "Enter '4' to exit.\n",
    "\n",
    "Before proceeding check you have downloaded a pre-trained model and have it saved in your path_model directory.\n",
    "For help on how to do this, consult the repo README.\n",
    "\n",
    "Enjoy!\n",
    "\n",
    "T. Mehta, 02/1/25 "
   ]
  },
  {
   "cell_type": "code",
   "execution_count": 2,
   "metadata": {},
   "outputs": [],
   "source": [
    "# Load the Google News Word2Vec model\n",
    "path_model=\"Q:\\\\Oflog\\\\NLP\\\\Inputs\\\\Pretrained_WE_models\\\\\"\n",
    "word_vectors = KeyedVectors.load(path_model+\"vectors_word2vec-google-news-300.kv\")"
   ]
  },
  {
   "cell_type": "code",
   "execution_count": 3,
   "metadata": {},
   "outputs": [],
   "source": [
    "# Function to calculate cosine similarity between two words\n",
    "def calculate_similarity(word1, word2):\n",
    "    try:\n",
    "        return word_vectors.similarity(word1, word2)\n",
    "    except KeyError as e:\n",
    "        raise ValueError(f\"Word '{e.args[0]}' not found in the vocabulary.\")\n",
    "\n",
    "\n",
    "\n",
    "# Function to find the closest word to a given vector\n",
    "def find_closest_word(vector, exclude_words=None):\n",
    "    if exclude_words is None:\n",
    "        exclude_words = set()\n",
    "    \n",
    "    # Most similar words in the vocabulary\n",
    "    similar_words = word_vectors.most_similar(positive=[vector], topn=100)\n",
    "    \n",
    "    # Filter out excluded words\n",
    "    for word, _ in similar_words:\n",
    "        if word not in exclude_words:\n",
    "            return word\n",
    "    return None\n",
    "\n",
    "    \n",
    "\n",
    "# Function to perform word addition/subtraction\n",
    "def word_math(word1, word2, operation, word3=None):\n",
    "    try:\n",
    "        vec1 = word_vectors[word1]\n",
    "        vec2 = word_vectors[word2]\n",
    "        \n",
    "        if operation == \"add\":\n",
    "            result_vector = vec1 + vec2\n",
    "        elif operation == \"subtract\" and word3:\n",
    "            vec3 = word_vectors[word3]\n",
    "            result_vector = vec1 - vec3 + vec2\n",
    "        else:\n",
    "            raise ValueError(\"Invalid operation. Use 'add' or 'subtract' with appropriate arguments.\")\n",
    "\n",
    "        result_vector = normalize(result_vector.reshape(1, -1))[0]\n",
    "        \n",
    "        # Find the closest word, excluding input words\n",
    "        closest_word = find_closest_word(result_vector, exclude_words=[word1, word2, word3])\n",
    "        return closest_word\n",
    "    except KeyError as e:\n",
    "        raise ValueError(f\"Word '{e.args[0]}' not found in the vocabulary.\")\n",
    "\n"
   ]
  },
  {
   "cell_type": "code",
   "execution_count": 4,
   "metadata": {},
   "outputs": [],
   "source": [
    "def interactive_demo():\n",
    "    while True:\n",
    "    \n",
    "        choice = input(\"Enter your choice (1-4): \").strip()\n",
    "        \n",
    "        if choice == \"1\":\n",
    "            word1 = input(\"Enter the first word: \").strip()\n",
    "            word2 = input(\"Enter the second word: \").strip()\n",
    "            try:\n",
    "                similarity = calculate_similarity(word1, word2)\n",
    "                print(f\"Cosine Similarity between '{word1}' and '{word2}': {similarity:.4f}\")\n",
    "                break\n",
    "            except Exception as e:\n",
    "                print(f\"Error: {e}\")\n",
    "                break\n",
    "        \n",
    "        elif choice == \"2\":\n",
    "            word1 = input(\"Enter the first word: \").strip()\n",
    "            word2 = input(\"Enter the second word: \").strip()\n",
    "            try:\n",
    "                result = word_math(word1, word2, \"add\")\n",
    "                print(f\"Result of '{word1} + {word2}': {result}\")\n",
    "                break\n",
    "            except Exception as e:\n",
    "                print(f\"Error: {e}\")\n",
    "                break\n",
    "        \n",
    "        elif choice == \"3\":\n",
    "            word1 = input(\"Enter the base word: \").strip()\n",
    "            word2 = input(\"Enter the word to add: \").strip()\n",
    "            word3 = input(\"Enter the word to subtract: \").strip()\n",
    "            try:\n",
    "                result = word_math(word1, word2, \"subtract\", word3)\n",
    "                print(f\"Result of '{word1} + {word2} - {word3}': {result}\")\n",
    "                break\n",
    "            except Exception as e:\n",
    "                print(f\"Error: {e}\")\n",
    "                break\n",
    "        \n",
    "        elif choice == \"4\":\n",
    "            print(\"Exiting demo. Goodbye!\")\n",
    "            break\n",
    "        else:\n",
    "            print(\"Invalid choice. Please enter a number between 1 and 4.\")\n",
    "            break\n"
   ]
  },
  {
   "cell_type": "markdown",
   "metadata": {},
   "source": []
  },
  {
   "cell_type": "code",
   "execution_count": 11,
   "metadata": {},
   "outputs": [
    {
     "name": "stdout",
     "output_type": "stream",
     "text": [
      "Result of 'London + India - England': Mumbai\n"
     ]
    }
   ],
   "source": [
    "interactive_demo()"
   ]
  },
  {
   "cell_type": "code",
   "execution_count": null,
   "metadata": {},
   "outputs": [],
   "source": []
  }
 ],
 "metadata": {
  "kernelspec": {
   "display_name": "base",
   "language": "python",
   "name": "python3"
  },
  "language_info": {
   "codemirror_mode": {
    "name": "ipython",
    "version": 3
   },
   "file_extension": ".py",
   "mimetype": "text/x-python",
   "name": "python",
   "nbconvert_exporter": "python",
   "pygments_lexer": "ipython3",
   "version": "3.9.7"
  }
 },
 "nbformat": 4,
 "nbformat_minor": 2
}
